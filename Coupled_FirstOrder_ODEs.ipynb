{
  "nbformat": 4,
  "nbformat_minor": 0,
  "metadata": {
    "colab": {
      "provenance": []
    },
    "kernelspec": {
      "name": "python3",
      "display_name": "Python 3"
    },
    "language_info": {
      "name": "python"
    }
  },
  "cells": [
    {
      "cell_type": "code",
      "source": [
        "# THIS IS APPROACH 1 (MOST EFFICIENT)"
      ],
      "metadata": {
        "id": "v8CipHdh2IeE"
      },
      "execution_count": null,
      "outputs": []
    },
    {
      "cell_type": "code",
      "execution_count": null,
      "metadata": {
        "id": "rZhCS3-TIJrp"
      },
      "outputs": [],
      "source": [
        "from sympy.interactive import printing\n",
        "printing.init_printing(use_latex = True)\n",
        "from sympy import *\n",
        "import sympy as sp\n",
        "from scipy.integrate import odeint\n",
        "import numpy as np\n",
        "import matplotlib.pyplot as plt\n"
      ]
    },
    {
      "cell_type": "code",
      "source": [
        "# Forming and initializing the functions\n",
        "t = sp.Symbol('t')\n",
        "y1 = sp.Function('y1')(t)\n",
        "y2 = sp.Function('y2')(t)\n",
        "y1_dt = y1.diff(t)\n",
        "y2_dt = y2.diff(t)\n",
        "\n",
        "display(y1_dt)\n",
        "print(\"\")\n",
        "display(y2_dt)"
      ],
      "metadata": {
        "id": "CvBEV-oMMhYj",
        "colab": {
          "base_uri": "https://localhost:8080/",
          "height": 105
        },
        "outputId": "a5d5717d-77a3-4d44-b423-4bd7ccdaeebe"
      },
      "execution_count": null,
      "outputs": [
        {
          "output_type": "display_data",
          "data": {
            "text/plain": [
              "d        \n",
              "──(y₁(t))\n",
              "dt       "
            ],
            "text/latex": "$\\displaystyle \\frac{d}{d t} y_{1}{\\left(t \\right)}$"
          },
          "metadata": {}
        },
        {
          "output_type": "stream",
          "name": "stdout",
          "text": [
            "\n"
          ]
        },
        {
          "output_type": "display_data",
          "data": {
            "text/plain": [
              "d        \n",
              "──(y₂(t))\n",
              "dt       "
            ],
            "text/latex": "$\\displaystyle \\frac{d}{d t} y_{2}{\\left(t \\right)}$"
          },
          "metadata": {}
        }
      ]
    },
    {
      "cell_type": "code",
      "source": [
        "# Froming the equations\n",
        "ODE_1 = Eq(y1_dt, -0.08*y1 + 0.02*y2 + 6)\n",
        "ODE_2 = Eq(y2_dt, 0.08*y1 - 0.08*y2)\n",
        "display(ODE_1)\n",
        "print(\"\")\n",
        "display(ODE_2)"
      ],
      "metadata": {
        "id": "vXMIkFrDN-TG",
        "colab": {
          "base_uri": "https://localhost:8080/",
          "height": 105
        },
        "outputId": "10bb3033-6125-4df7-907d-d1c8bae1718d"
      },
      "execution_count": null,
      "outputs": [
        {
          "output_type": "display_data",
          "data": {
            "text/plain": [
              "d                                       \n",
              "──(y₁(t)) = -0.08⋅y₁(t) + 0.02⋅y₂(t) + 6\n",
              "dt                                      "
            ],
            "text/latex": "$\\displaystyle \\frac{d}{d t} y_{1}{\\left(t \\right)} = - 0.08 y_{1}{\\left(t \\right)} + 0.02 y_{2}{\\left(t \\right)} + 6$"
          },
          "metadata": {}
        },
        {
          "output_type": "stream",
          "name": "stdout",
          "text": [
            "\n"
          ]
        },
        {
          "output_type": "display_data",
          "data": {
            "text/plain": [
              "d                                  \n",
              "──(y₂(t)) = 0.08⋅y₁(t) - 0.08⋅y₂(t)\n",
              "dt                                 "
            ],
            "text/latex": "$\\displaystyle \\frac{d}{d t} y_{2}{\\left(t \\right)} = 0.08 y_{1}{\\left(t \\right)} - 0.08 y_{2}{\\left(t \\right)}$"
          },
          "metadata": {}
        }
      ]
    },
    {
      "cell_type": "code",
      "source": [
        "def odes(x, t):\n",
        "\n",
        "  #Assigning each ode to a vector\n",
        "  y1_wrt_t = x[0]\n",
        "  y2_wrt_t = x[1]\n",
        "\n",
        "  y1dt = -0.08*y1_wrt_t + 0.02*y2_wrt_t + 6\n",
        "  y2dt = 0.08*y1_wrt_t - 0.08*y2_wrt_t\n",
        "\n",
        "  return [y1dt, y2dt]\n",
        "\n",
        "x0 = [0, 150]"
      ],
      "metadata": {
        "id": "jg9fUUTfbx7G"
      },
      "execution_count": null,
      "outputs": []
    },
    {
      "cell_type": "code",
      "source": [
        "#print(odes(x = x0, t=0))\n",
        "time = np.linspace(0,200,1000)\n",
        "x = odeint(odes, x0, time)\n",
        "y1dt = x[:,0]\n",
        "y2dt = x[:,1]"
      ],
      "metadata": {
        "id": "_svFa2wsc744"
      },
      "execution_count": null,
      "outputs": []
    },
    {
      "cell_type": "code",
      "source": [
        "plt.plot(time,y1dt)\n",
        "plt.plot(time,y2dt)\n",
        "plt.title('Salinity Behaviour Comparison')\n",
        "plt.xlabel('Time (min)')\n",
        "plt.ylabel('y(t) (Salinity)')\n",
        "plt.legend(['Salt Content in T1','Salt Content in T2'])\n",
        "plt.grid(axis = 'both')"
      ],
      "metadata": {
        "id": "jmVqk9VMfH_g",
        "colab": {
          "base_uri": "https://localhost:8080/",
          "height": 472
        },
        "outputId": "3a4355f7-e29f-47f7-ff05-7baf9b7af379"
      },
      "execution_count": null,
      "outputs": [
        {
          "output_type": "display_data",
          "data": {
            "text/plain": [
              "<Figure size 640x480 with 1 Axes>"
            ],
            "image/png": "[encoded data removed]"
          },
          "metadata": {}
        }
      ]
    },
    {
      "cell_type": "code",
      "source": [
        "x = odeint(odes, x0, [0,80])\n",
        "y1dt_at80 = x[:,0][1]\n",
        "y2dt_at80 = x[:,1][1]\n",
        "print(\"At time = 80 min, the Salinity:\")\n",
        "print(f\"In Tank T1: {y1dt_at80}\")\n",
        "print(f\"In Tank T2: {y2dt_at80}\")"
      ],
      "metadata": {
        "colab": {
          "base_uri": "https://localhost:8080/"
        },
        "id": "C3U7bv6FhYQx",
        "outputId": "0bffed3a-8887-404e-efdc-89eaaef662e4"
      },
      "execution_count": null,
      "outputs": [
        {
          "output_type": "stream",
          "name": "stdout",
          "text": [
            "At time = 80 min, the Salinity:\n",
            "In Tank T1: 98.46718436433883\n",
            "In Tank T2: 96.95130070252404\n"
          ]
        }
      ]
    },
    {
      "cell_type": "code",
      "source": [
        "plt.plot(time,y1dt)\n",
        "plt.plot(time,y2dt)\n",
        "plt.xlim(0,150)\n",
        "plt.ylim(60,120)\n",
        "plt.title('Salinity Behaviour Comparison')\n",
        "plt.xlabel('Time (min)')\n",
        "plt.ylabel('y(t) (Salinity)')\n",
        "plt.legend(['T1: At t=80min, Salt is 98.4671 lb ','T2: At t=80min, Salt is 96.9513 lb' ])\n",
        "plt.grid(axis = 'both')\n",
        "plt.plot([80],[98.46718436433883], marker = 'o')\n",
        "plt.plot([80],[96.95130070252404], marker = 'o')"
      ],
      "metadata": {
        "colab": {
          "base_uri": "https://localhost:8080/",
          "height": 490
        },
        "id": "dduuNybWn7iU",
        "outputId": "e3f7020f-f110-491d-9b52-6aaea2ed29cf"
      },
      "execution_count": null,
      "outputs": [
        {
          "output_type": "execute_result",
          "data": {
            "text/plain": [
              "[<matplotlib.lines.Line2D at 0x7dac74f16050>]"
            ]
          },
          "metadata": {},
          "execution_count": 47
        },
        {
          "output_type": "display_data",
          "data": {
            "text/plain": [
              "<Figure size 640x480 with 1 Axes>"
            ],
            "image/png": "[encoded data removed]"
          },
          "metadata": {}
        }
      ]
    },
    {
      "cell_type": "code",
      "source": [
        "## BELOW IS  APPROACCH 2 (TEDIOUS ONE)"
      ],
      "metadata": {
        "id": "leNvPtXX18Rs"
      },
      "execution_count": null,
      "outputs": []
    },
    {
      "cell_type": "code",
      "source": [
        "from sympy.interactive import printing\n",
        "printing.init_printing(use_latex = True)\n",
        "from sympy import *\n",
        "import sympy as sp\n",
        "from sympy.abc import x,y,s,t\n",
        "from sympy.integrals import laplace_transform, inverse_laplace_transform"
      ],
      "metadata": {
        "id": "iWp0geNB1rLv"
      },
      "execution_count": 48,
      "outputs": []
    },
    {
      "cell_type": "code",
      "source": [
        "s = sp.Symbol('s')\n",
        "Y = sp.Function('Y')(s)\n",
        "t = sp.Symbol('t')\n",
        "y = sp.Function('y')(t)"
      ],
      "metadata": {
        "id": "WNEhh48Q1slj"
      },
      "execution_count": 49,
      "outputs": []
    },
    {
      "cell_type": "code",
      "source": [
        "#Laplace Transform\n",
        "alpha = input('Enter the function to calculate Laplace transform: ')\n",
        "print(\"\")\n",
        "Laplace = laplace_transform(alpha, t,s)\n",
        "print(\"The Laplace Transform of\")\n",
        "display(y)\n",
        "print('')\n",
        "equation = Eq(Y, Laplace[0])\n",
        "display(equation)"
      ],
      "metadata": {
        "colab": {
          "base_uri": "https://localhost:8080/",
          "height": 146
        },
        "id": "WsbHgM_U1vaJ",
        "outputId": "5a3d8586-1539-4e10-99e2-cef71319acde"
      },
      "execution_count": 50,
      "outputs": [
        {
          "output_type": "stream",
          "name": "stdout",
          "text": [
            "Enter the function to calculate Laplace transform: 6\n",
            "\n",
            "The Laplace Transform of\n"
          ]
        },
        {
          "output_type": "display_data",
          "data": {
            "text/plain": [
              "y(t)"
            ],
            "text/latex": "$\\displaystyle y{\\left(t \\right)}$"
          },
          "metadata": {}
        },
        {
          "output_type": "stream",
          "name": "stdout",
          "text": [
            "\n"
          ]
        },
        {
          "output_type": "display_data",
          "data": {
            "text/plain": [
              "       6\n",
              "Y(s) = ─\n",
              "       s"
            ],
            "text/latex": "$\\displaystyle Y{\\left(s \\right)} = \\frac{6}{s}$"
          },
          "metadata": {}
        }
      ]
    },
    {
      "cell_type": "code",
      "source": [
        "#Inverse Laplace Transform\n",
        "beta = input(\"Enter the function to calculate Inverse Laplace transform: \")\n",
        "Inv_Laplace = inverse_laplace_transform(beta,s,t)\n",
        "print(\"The Inverse Laplace Transform of\")\n",
        "display(Y)\n",
        "print('')\n",
        "Equation = Eq(y,Inv_Laplace)\n",
        "display(Equation)"
      ],
      "metadata": {
        "colab": {
          "base_uri": "https://localhost:8080/",
          "height": 115
        },
        "id": "Lee5jvn51xa8",
        "outputId": "ecf8741b-c9bc-4e76-b3e8-cef8f6783ca7"
      },
      "execution_count": 51,
      "outputs": [
        {
          "output_type": "stream",
          "name": "stdout",
          "text": [
            "Enter the function to calculate Inverse Laplace transform: 6/s\n",
            "The Inverse Laplace Transform of\n"
          ]
        },
        {
          "output_type": "display_data",
          "data": {
            "text/plain": [
              "Y(s)"
            ],
            "text/latex": "$\\displaystyle Y{\\left(s \\right)}$"
          },
          "metadata": {}
        },
        {
          "output_type": "stream",
          "name": "stdout",
          "text": [
            "\n"
          ]
        },
        {
          "output_type": "display_data",
          "data": {
            "text/plain": [
              "y(t) = 6⋅θ(t)"
            ],
            "text/latex": "$\\displaystyle y{\\left(t \\right)} = 6 \\theta\\left(t\\right)$"
          },
          "metadata": {}
        }
      ]
    },
    {
      "cell_type": "code",
      "source": [
        "#Partial Fraction\n",
        "gamma = input(\"Enter the function to convert into Partial Fraction: \")\n",
        "Partial = sp.apart(gamma)\n",
        "display(Partial)"
      ],
      "metadata": {
        "colab": {
          "base_uri": "https://localhost:8080/",
          "height": 76
        },
        "id": "_PbZr3K51zpa",
        "outputId": "5a2c04f1-a4fa-4613-9b2e-eeeba3940874"
      },
      "execution_count": 53,
      "outputs": [
        {
          "name": "stdout",
          "output_type": "stream",
          "text": [
            "Enter the function to convert into Partial Fraction: s/(s+1)**2\n"
          ]
        },
        {
          "output_type": "display_data",
          "data": {
            "text/plain": [
              "  1        1    \n",
              "───── - ────────\n",
              "s + 1          2\n",
              "        (s + 1) "
            ],
            "text/latex": "$\\displaystyle \\frac{1}{s + 1} - \\frac{1}{\\left(s + 1\\right)^{2}}$"
          },
          "metadata": {}
        }
      ]
    },
    {
      "cell_type": "code",
      "source": [
        "#Polynomial Multiplication\n",
        "delta = input('Enter the polynomial to Expand: ')\n",
        "Poly = sp.expand(delta)\n",
        "display(Poly)"
      ],
      "metadata": {
        "colab": {
          "base_uri": "https://localhost:8080/",
          "height": 57
        },
        "id": "UiMD11fg116e",
        "outputId": "48a2591d-3900-4b24-8921-6718ef9f647c"
      },
      "execution_count": 54,
      "outputs": [
        {
          "name": "stdout",
          "output_type": "stream",
          "text": [
            "Enter the polynomial to Expand: (s+3)*(s-5)*(s+1)\n"
          ]
        },
        {
          "output_type": "display_data",
          "data": {
            "text/plain": [
              " 3    2            \n",
              "s  - s  - 17⋅s - 15"
            ],
            "text/latex": "$\\displaystyle s^{3} - s^{2} - 17 s - 15$"
          },
          "metadata": {}
        }
      ]
    },
    {
      "cell_type": "code",
      "source": [
        "#Find Roots of the Polynomial\n",
        "omega = input(\"Enter the polynomial to to calculate the roots: \")\n",
        "Roots = sp.roots(omega)\n",
        "display(Roots)"
      ],
      "metadata": {
        "colab": {
          "base_uri": "https://localhost:8080/",
          "height": 57
        },
        "id": "dLPlLQFs14qC",
        "outputId": "26b8c57a-b35b-47f6-c566-320a51f30a7e"
      },
      "execution_count": 57,
      "outputs": [
        {
          "name": "stdout",
          "output_type": "stream",
          "text": [
            "Enter the polynomial to to calculate the roots: s**2+2*s+2\n"
          ]
        },
        {
          "output_type": "display_data",
          "data": {
            "text/plain": [
              "{-1 - ⅈ: 1, -1 + ⅈ: 1}"
            ],
            "text/latex": "$\\displaystyle \\left\\{ -1 - i : 1, \\  -1 + i : 1\\right\\}$"
          },
          "metadata": {}
        }
      ]
    }
  ]
}